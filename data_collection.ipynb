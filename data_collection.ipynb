{
 "cells": [
  {
   "cell_type": "code",
   "execution_count": 1,
   "metadata": {},
   "outputs": [
    {
     "name": "stdout",
     "output_type": "stream",
     "text": [
      "Collecting simple_image_download\n",
      "  Using cached simple_image_download-0.4-py3-none-any.whl (4.9 kB)\n",
      "Requirement already satisfied: requests in /home/sai/anaconda3/lib/python3.7/site-packages (from simple_image_download) (2.25.1)\n",
      "Collecting progressbar\n",
      "  Using cached progressbar-2.5.tar.gz (10 kB)\n",
      "\u001b[31mERROR: Could not find a version that satisfies the requirement python-magic-bin==0.4.14 (from simple_image_download) (from versions: none)\u001b[0m\n",
      "\u001b[31mERROR: No matching distribution found for python-magic-bin==0.4.14 (from simple_image_download)\u001b[0m\n"
     ]
    }
   ],
   "source": [
    "!pip install simple_image_download"
   ]
  },
  {
   "cell_type": "code",
   "execution_count": 2,
   "metadata": {},
   "outputs": [
    {
     "ename": "ModuleNotFoundError",
     "evalue": "No module named 'simple_image_download'",
     "output_type": "error",
     "traceback": [
      "\u001b[0;31m---------------------------------------------------------------------------\u001b[0m",
      "\u001b[0;31mModuleNotFoundError\u001b[0m                       Traceback (most recent call last)",
      "\u001b[0;32m<ipython-input-2-68a8abacb291>\u001b[0m in \u001b[0;36m<module>\u001b[0;34m\u001b[0m\n\u001b[0;32m----> 1\u001b[0;31m \u001b[0;32mfrom\u001b[0m \u001b[0msimple_image_download\u001b[0m \u001b[0;32mimport\u001b[0m \u001b[0msimple_image_download\u001b[0m \u001b[0;32mas\u001b[0m \u001b[0msimp\u001b[0m\u001b[0;34m\u001b[0m\u001b[0;34m\u001b[0m\u001b[0m\n\u001b[0m\u001b[1;32m      2\u001b[0m \u001b[0;34m\u001b[0m\u001b[0m\n\u001b[1;32m      3\u001b[0m \u001b[0msearch_queries\u001b[0m \u001b[0;34m=\u001b[0m \u001b[0;34m[\u001b[0m\u001b[0;34m'audi'\u001b[0m\u001b[0;34m]\u001b[0m\u001b[0;34m\u001b[0m\u001b[0;34m\u001b[0m\u001b[0m\n\u001b[1;32m      4\u001b[0m \u001b[0;34m\u001b[0m\u001b[0m\n\u001b[1;32m      5\u001b[0m \u001b[0;31m# Driver Code\u001b[0m\u001b[0;34m\u001b[0m\u001b[0;34m\u001b[0m\u001b[0;34m\u001b[0m\u001b[0m\n",
      "\u001b[0;31mModuleNotFoundError\u001b[0m: No module named 'simple_image_download'"
     ]
    }
   ],
   "source": [
    "from simple_image_download import simple_image_download as simp\n",
    "\n",
    "search_queries = ['audi']\n",
    "\n",
    "# Driver Code\n",
    "for query in search_queries:\n",
    "    response = simp.simple_image_download\n",
    "    response().download(query, 70)\n",
    "    print(query)\n",
    "\n",
    "#print(response().urls(query, 20))"
   ]
  },
  {
   "cell_type": "code",
   "execution_count": null,
   "metadata": {},
   "outputs": [],
   "source": []
  }
 ],
 "metadata": {
  "kernelspec": {
   "display_name": "Python 3",
   "language": "python",
   "name": "python3"
  },
  "language_info": {
   "codemirror_mode": {
    "name": "ipython",
    "version": 3
   },
   "file_extension": ".py",
   "mimetype": "text/x-python",
   "name": "python",
   "nbconvert_exporter": "python",
   "pygments_lexer": "ipython3",
   "version": "3.7.6"
  }
 },
 "nbformat": 4,
 "nbformat_minor": 4
}
