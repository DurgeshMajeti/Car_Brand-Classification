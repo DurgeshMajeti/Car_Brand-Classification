{
 "cells": [
  {
   "cell_type": "code",
   "execution_count": 1,
   "metadata": {
    "colab": {
     "base_uri": "https://localhost:8080/"
    },
    "executionInfo": {
     "elapsed": 11512,
     "status": "ok",
     "timestamp": 1619266947739,
     "user": {
      "displayName": "Ravi Shankar",
      "photoUrl": "https://lh3.googleusercontent.com/a-/AOh14GidxOjj3ciQniMvbosm0jepKjOPlFME4D2TaWrZug=s64",
      "userId": "07850487889650248093"
     },
     "user_tz": -330
    },
    "id": "sD4sYak3Y7RL",
    "outputId": "6f3db888-d8aa-418e-abd8-79b72a242f4c"
   },
   "outputs": [
    {
     "name": "stdout",
     "output_type": "stream",
     "text": [
      "Requirement already satisfied: gradio in /home/sai/anaconda3/lib/python3.7/site-packages (1.6.4)\n",
      "Requirement already satisfied: librosa in /home/sai/anaconda3/lib/python3.7/site-packages (from gradio) (0.8.0)\n",
      "Requirement already satisfied: requests in /home/sai/anaconda3/lib/python3.7/site-packages (from gradio) (2.25.1)\n",
      "Requirement already satisfied: IPython in /home/sai/anaconda3/lib/python3.7/site-packages (from gradio) (7.12.0)\n",
      "Requirement already satisfied: colorama>=0.3.9 in /home/sai/anaconda3/lib/python3.7/site-packages (from gradio) (0.4.3)\n",
      "Requirement already satisfied: numpy in /home/sai/anaconda3/lib/python3.7/site-packages (from gradio) (1.18.1)\n",
      "Requirement already satisfied: Flask-Cors>=3.0.8 in /home/sai/anaconda3/lib/python3.7/site-packages (from gradio) (3.0.8)\n",
      "Requirement already satisfied: scikit-image in /home/sai/anaconda3/lib/python3.7/site-packages (from gradio) (0.16.2)\n",
      "Requirement already satisfied: flask-cachebuster in /home/sai/anaconda3/lib/python3.7/site-packages (from gradio) (1.0.0)\n",
      "Requirement already satisfied: analytics-python in /home/sai/anaconda3/lib/python3.7/site-packages (from gradio) (1.2.9)\n",
      "Requirement already satisfied: scipy in /home/sai/anaconda3/lib/python3.7/site-packages (from gradio) (1.4.1)\n",
      "Requirement already satisfied: pandas in /home/sai/anaconda3/lib/python3.7/site-packages (from gradio) (0.25.3)\n",
      "Requirement already satisfied: paramiko in /home/sai/anaconda3/lib/python3.7/site-packages (from gradio) (2.7.2)\n",
      "Requirement already satisfied: markdown2 in /home/sai/anaconda3/lib/python3.7/site-packages (from gradio) (2.4.0)\n",
      "Requirement already satisfied: Flask>=1.1.1 in /home/sai/anaconda3/lib/python3.7/site-packages (from gradio) (1.1.2)\n",
      "Requirement already satisfied: ffmpy in /home/sai/anaconda3/lib/python3.7/site-packages (from gradio) (0.3.0)\n",
      "Requirement already satisfied: Flask-BasicAuth in /home/sai/anaconda3/lib/python3.7/site-packages (from gradio) (0.2.0)\n",
      "Requirement already satisfied: pooch>=1.0 in /home/sai/anaconda3/lib/python3.7/site-packages (from librosa->gradio) (1.3.0)\n",
      "Requirement already satisfied: joblib>=0.14 in /home/sai/anaconda3/lib/python3.7/site-packages (from librosa->gradio) (0.14.1)\n",
      "Requirement already satisfied: resampy>=0.2.2 in /home/sai/anaconda3/lib/python3.7/site-packages (from librosa->gradio) (0.2.2)\n",
      "Requirement already satisfied: scikit-learn!=0.19.0,>=0.14.0 in /home/sai/anaconda3/lib/python3.7/site-packages (from librosa->gradio) (0.22.1)\n",
      "Requirement already satisfied: soundfile>=0.9.0 in /home/sai/anaconda3/lib/python3.7/site-packages (from librosa->gradio) (0.10.3.post1)\n",
      "Requirement already satisfied: decorator>=3.0.0 in /home/sai/anaconda3/lib/python3.7/site-packages (from librosa->gradio) (4.4.1)\n",
      "Requirement already satisfied: numba>=0.43.0 in /home/sai/anaconda3/lib/python3.7/site-packages (from librosa->gradio) (0.48.0)\n",
      "Requirement already satisfied: audioread>=2.0.0 in /home/sai/anaconda3/lib/python3.7/site-packages (from librosa->gradio) (2.1.9)\n",
      "Requirement already satisfied: certifi>=2017.4.17 in /home/sai/anaconda3/lib/python3.7/site-packages (from requests->gradio) (2020.12.5)\n",
      "Requirement already satisfied: urllib3<1.27,>=1.21.1 in /home/sai/anaconda3/lib/python3.7/site-packages (from requests->gradio) (1.25.8)\n",
      "Requirement already satisfied: chardet<5,>=3.0.2 in /home/sai/anaconda3/lib/python3.7/site-packages (from requests->gradio) (3.0.4)\n",
      "Requirement already satisfied: idna<3,>=2.5 in /home/sai/anaconda3/lib/python3.7/site-packages (from requests->gradio) (2.8)\n",
      "Requirement already satisfied: pickleshare in /home/sai/anaconda3/lib/python3.7/site-packages (from IPython->gradio) (0.7.5)\n",
      "Requirement already satisfied: traitlets>=4.2 in /home/sai/anaconda3/lib/python3.7/site-packages (from IPython->gradio) (4.3.3)\n",
      "Requirement already satisfied: prompt-toolkit!=3.0.0,!=3.0.1,<3.1.0,>=2.0.0 in /home/sai/anaconda3/lib/python3.7/site-packages (from IPython->gradio) (3.0.3)\n",
      "Requirement already satisfied: jedi>=0.10 in /home/sai/anaconda3/lib/python3.7/site-packages (from IPython->gradio) (0.16.0)\n",
      "Requirement already satisfied: pexpect; sys_platform != \"win32\" in /home/sai/anaconda3/lib/python3.7/site-packages (from IPython->gradio) (4.8.0)\n",
      "Requirement already satisfied: pygments in /home/sai/anaconda3/lib/python3.7/site-packages (from IPython->gradio) (2.5.2)\n",
      "Requirement already satisfied: backcall in /home/sai/anaconda3/lib/python3.7/site-packages (from IPython->gradio) (0.1.0)\n",
      "Requirement already satisfied: setuptools>=18.5 in /home/sai/anaconda3/lib/python3.7/site-packages (from IPython->gradio) (45.2.0.post20200210)\n",
      "Requirement already satisfied: Six in /home/sai/anaconda3/lib/python3.7/site-packages (from Flask-Cors>=3.0.8->gradio) (1.14.0)\n",
      "Requirement already satisfied: matplotlib!=3.0.0,>=2.0.0 in /home/sai/anaconda3/lib/python3.7/site-packages (from scikit-image->gradio) (3.4.1)\n",
      "Requirement already satisfied: imageio>=2.3.0 in /home/sai/anaconda3/lib/python3.7/site-packages (from scikit-image->gradio) (2.6.1)\n",
      "Requirement already satisfied: pillow>=4.3.0 in /home/sai/anaconda3/lib/python3.7/site-packages (from scikit-image->gradio) (7.0.0)\n",
      "Requirement already satisfied: networkx>=2.0 in /home/sai/anaconda3/lib/python3.7/site-packages (from scikit-image->gradio) (2.4)\n",
      "Requirement already satisfied: PyWavelets>=0.4.0 in /home/sai/anaconda3/lib/python3.7/site-packages (from scikit-image->gradio) (1.1.1)\n",
      "Requirement already satisfied: python-dateutil>2.1 in /home/sai/anaconda3/lib/python3.7/site-packages (from analytics-python->gradio) (2.8.1)\n",
      "Requirement already satisfied: pytz>=2017.2 in /home/sai/anaconda3/lib/python3.7/site-packages (from pandas->gradio) (2019.3)\n",
      "Requirement already satisfied: pynacl>=1.0.1 in /home/sai/anaconda3/lib/python3.7/site-packages (from paramiko->gradio) (1.4.0)\n",
      "Requirement already satisfied: bcrypt>=3.1.3 in /home/sai/anaconda3/lib/python3.7/site-packages (from paramiko->gradio) (3.2.0)\n",
      "Requirement already satisfied: cryptography>=2.5 in /home/sai/anaconda3/lib/python3.7/site-packages (from paramiko->gradio) (2.8)\n",
      "Requirement already satisfied: Werkzeug>=0.15 in /home/sai/anaconda3/lib/python3.7/site-packages (from Flask>=1.1.1->gradio) (0.16.1)\n",
      "Requirement already satisfied: click>=5.1 in /home/sai/anaconda3/lib/python3.7/site-packages (from Flask>=1.1.1->gradio) (7.0)\n",
      "Requirement already satisfied: Jinja2>=2.10.1 in /home/sai/anaconda3/lib/python3.7/site-packages (from Flask>=1.1.1->gradio) (2.11.3)\n",
      "Requirement already satisfied: itsdangerous>=0.24 in /home/sai/anaconda3/lib/python3.7/site-packages (from Flask>=1.1.1->gradio) (1.1.0)\n",
      "Requirement already satisfied: appdirs in /home/sai/anaconda3/lib/python3.7/site-packages (from pooch>=1.0->librosa->gradio) (1.4.4)\n",
      "Requirement already satisfied: packaging in /home/sai/anaconda3/lib/python3.7/site-packages (from pooch>=1.0->librosa->gradio) (20.1)\n",
      "Requirement already satisfied: cffi>=1.0 in /home/sai/anaconda3/lib/python3.7/site-packages (from soundfile>=0.9.0->librosa->gradio) (1.14.0)\n",
      "Requirement already satisfied: llvmlite<0.32.0,>=0.31.0dev0 in /home/sai/anaconda3/lib/python3.7/site-packages (from numba>=0.43.0->librosa->gradio) (0.31.0)\n",
      "Requirement already satisfied: ipython-genutils in /home/sai/anaconda3/lib/python3.7/site-packages (from traitlets>=4.2->IPython->gradio) (0.2.0)\n",
      "Requirement already satisfied: wcwidth in /home/sai/anaconda3/lib/python3.7/site-packages (from prompt-toolkit!=3.0.0,!=3.0.1,<3.1.0,>=2.0.0->IPython->gradio) (0.1.8)\n",
      "Requirement already satisfied: parso>=0.5.2 in /home/sai/anaconda3/lib/python3.7/site-packages (from jedi>=0.10->IPython->gradio) (0.6.1)\n",
      "Requirement already satisfied: ptyprocess>=0.5 in /home/sai/anaconda3/lib/python3.7/site-packages (from pexpect; sys_platform != \"win32\"->IPython->gradio) (0.6.0)\n",
      "Requirement already satisfied: kiwisolver>=1.0.1 in /home/sai/anaconda3/lib/python3.7/site-packages (from matplotlib!=3.0.0,>=2.0.0->scikit-image->gradio) (1.1.0)\n",
      "Requirement already satisfied: pyparsing>=2.2.1 in /home/sai/anaconda3/lib/python3.7/site-packages (from matplotlib!=3.0.0,>=2.0.0->scikit-image->gradio) (2.4.6)\n",
      "Requirement already satisfied: cycler>=0.10 in /home/sai/anaconda3/lib/python3.7/site-packages (from matplotlib!=3.0.0,>=2.0.0->scikit-image->gradio) (0.10.0)\n",
      "Requirement already satisfied: MarkupSafe>=0.23 in /home/sai/anaconda3/lib/python3.7/site-packages (from Jinja2>=2.10.1->Flask>=1.1.1->gradio) (1.1.1)\n",
      "Requirement already satisfied: pycparser in /home/sai/anaconda3/lib/python3.7/site-packages (from cffi>=1.0->soundfile>=0.9.0->librosa->gradio) (2.19)\n"
     ]
    }
   ],
   "source": [
    "!pip install gradio"
   ]
  },
  {
   "cell_type": "code",
   "execution_count": 31,
   "metadata": {
    "colab": {
     "base_uri": "https://localhost:8080/"
    },
    "executionInfo": {
     "elapsed": 2509,
     "status": "ok",
     "timestamp": 1619266952333,
     "user": {
      "displayName": "Ravi Shankar",
      "photoUrl": "https://lh3.googleusercontent.com/a-/AOh14GidxOjj3ciQniMvbosm0jepKjOPlFME4D2TaWrZug=s64",
      "userId": "07850487889650248093"
     },
     "user_tz": -330
    },
    "id": "0Iv7c_OHY7RW",
    "outputId": "0f75d191-f2d4-49d8-b617-3b6306cb0127"
   },
   "outputs": [
    {
     "name": "stdout",
     "output_type": "stream",
     "text": [
      "2.2.0\n"
     ]
    }
   ],
   "source": [
    "import tensorflow as tf\n",
    "print(tf.__version__)"
   ]
  },
  {
   "cell_type": "code",
   "execution_count": 32,
   "metadata": {
    "executionInfo": {
     "elapsed": 4551,
     "status": "ok",
     "timestamp": 1619266957684,
     "user": {
      "displayName": "Ravi Shankar",
      "photoUrl": "https://lh3.googleusercontent.com/a-/AOh14GidxOjj3ciQniMvbosm0jepKjOPlFME4D2TaWrZug=s64",
      "userId": "07850487889650248093"
     },
     "user_tz": -330
    },
    "id": "BpNBMcCIY7RY"
   },
   "outputs": [],
   "source": [
    "import gradio as gr\n",
    "import numpy as np\n",
    "from PIL import Image\n",
    "import requests\n",
    "from keras.models import load_model"
   ]
  },
  {
   "cell_type": "code",
   "execution_count": 33,
   "metadata": {
    "executionInfo": {
     "elapsed": 1057,
     "status": "ok",
     "timestamp": 1619267070495,
     "user": {
      "displayName": "Ravi Shankar",
      "photoUrl": "https://lh3.googleusercontent.com/a-/AOh14GidxOjj3ciQniMvbosm0jepKjOPlFME4D2TaWrZug=s64",
      "userId": "07850487889650248093"
     },
     "user_tz": -330
    },
    "id": "hb-sA0bdY7RZ"
   },
   "outputs": [],
   "source": [
    "labels = [\"audi\",\"Ford\",\"honda_cars\",\"KIA\",\"lamborghini\",\"lexus\",\"mahindra_cars\",\"mercedes_benz\",\"suzuki_cars\",\"tata_cars\"]"
   ]
  },
  {
   "cell_type": "code",
   "execution_count": 34,
   "metadata": {
    "colab": {
     "base_uri": "https://localhost:8080/"
    },
    "executionInfo": {
     "elapsed": 1257,
     "status": "ok",
     "timestamp": 1619267071135,
     "user": {
      "displayName": "Ravi Shankar",
      "photoUrl": "https://lh3.googleusercontent.com/a-/AOh14GidxOjj3ciQniMvbosm0jepKjOPlFME4D2TaWrZug=s64",
      "userId": "07850487889650248093"
     },
     "user_tz": -330
    },
    "id": "WkR6qLQ5Y7RZ",
    "outputId": "5b7c3d69-6ef9-4784-b77d-3b7249e8b00d"
   },
   "outputs": [
    {
     "data": {
      "text/plain": [
       "['audi',\n",
       " 'Ford',\n",
       " 'honda_cars',\n",
       " 'KIA',\n",
       " 'lamborghini',\n",
       " 'lexus',\n",
       " 'mahindra_cars',\n",
       " 'mercedes_benz',\n",
       " 'suzuki_cars',\n",
       " 'tata_cars']"
      ]
     },
     "execution_count": 34,
     "metadata": {},
     "output_type": "execute_result"
    }
   ],
   "source": [
    "labels"
   ]
  },
  {
   "cell_type": "code",
   "execution_count": 35,
   "metadata": {
    "executionInfo": {
     "elapsed": 5154,
     "status": "ok",
     "timestamp": 1619267079767,
     "user": {
      "displayName": "Ravi Shankar",
      "photoUrl": "https://lh3.googleusercontent.com/a-/AOh14GidxOjj3ciQniMvbosm0jepKjOPlFME4D2TaWrZug=s64",
      "userId": "07850487889650248093"
     },
     "user_tz": -330
    },
    "id": "uRn4FSHxY7Ra"
   },
   "outputs": [],
   "source": [
    "inception_model = load_model(\"models/model_inceptionv3.h5\")"
   ]
  },
  {
   "cell_type": "code",
   "execution_count": 36,
   "metadata": {
    "executionInfo": {
     "elapsed": 6699,
     "status": "ok",
     "timestamp": 1619267081683,
     "user": {
      "displayName": "Ravi Shankar",
      "photoUrl": "https://lh3.googleusercontent.com/a-/AOh14GidxOjj3ciQniMvbosm0jepKjOPlFME4D2TaWrZug=s64",
      "userId": "07850487889650248093"
     },
     "user_tz": -330
    },
    "id": "GkY3EhheY7Rb"
   },
   "outputs": [],
   "source": [
    "vgg16_model = load_model(\"models/model_vgg16.h5\")"
   ]
  },
  {
   "cell_type": "code",
   "execution_count": null,
   "metadata": {
    "executionInfo": {
     "elapsed": 17703,
     "status": "ok",
     "timestamp": 1619263743359,
     "user": {
      "displayName": "Ravi Shankar",
      "photoUrl": "https://lh3.googleusercontent.com/a-/AOh14GidxOjj3ciQniMvbosm0jepKjOPlFME4D2TaWrZug=s64",
      "userId": "07850487889650248093"
     },
     "user_tz": -330
    },
    "id": "irLxP7uiZmRN"
   },
   "outputs": [],
   "source": [
    "base_model = load_model(\"models/base_model.h5\")"
   ]
  },
  {
   "cell_type": "code",
   "execution_count": 37,
   "metadata": {
    "executionInfo": {
     "elapsed": 1001,
     "status": "ok",
     "timestamp": 1619267085018,
     "user": {
      "displayName": "Ravi Shankar",
      "photoUrl": "https://lh3.googleusercontent.com/a-/AOh14GidxOjj3ciQniMvbosm0jepKjOPlFME4D2TaWrZug=s64",
      "userId": "07850487889650248093"
     },
     "user_tz": -330
    },
    "id": "MVQZWSmwY7Rb"
   },
   "outputs": [],
   "source": [
    "def classify_image_with_inceptionv3(img):\n",
    "    im = Image.fromarray(img.astype('uint8'),'RGB')\n",
    "    im = im.resize((224,224))\n",
    "    arr = np.array(im).reshape((1,224,224,3))\n",
    "    arr = tf.keras.applications.inception_v3.preprocess_input(arr)\n",
    "    prediction = inception_model.predict(arr).flatten()\n",
    "    return {labels[i]: float(prediction[i]) for i in range(10)}"
   ]
  },
  {
   "cell_type": "code",
   "execution_count": 38,
   "metadata": {
    "executionInfo": {
     "elapsed": 987,
     "status": "ok",
     "timestamp": 1619267093854,
     "user": {
      "displayName": "Ravi Shankar",
      "photoUrl": "https://lh3.googleusercontent.com/a-/AOh14GidxOjj3ciQniMvbosm0jepKjOPlFME4D2TaWrZug=s64",
      "userId": "07850487889650248093"
     },
     "user_tz": -330
    },
    "id": "jIIWkiiQY7Rc"
   },
   "outputs": [],
   "source": [
    "def classify_image_with_vgg16(img):\n",
    "    im = Image.fromarray(img.astype('uint8'),'RGB')\n",
    "    im = im.resize((224,224))\n",
    "    arr = np.array(im).reshape((1,224,224,3))\n",
    "    arr = tf.keras.applications.vgg16.preprocess_input(arr)\n",
    "    prediction = vgg16_model.predict(arr).flatten()\n",
    "    return {labels[i]: float(prediction[i]) for i in range(10)}"
   ]
  },
  {
   "cell_type": "code",
   "execution_count": 40,
   "metadata": {
    "executionInfo": {
     "elapsed": 17683,
     "status": "ok",
     "timestamp": 1619263743363,
     "user": {
      "displayName": "Ravi Shankar",
      "photoUrl": "https://lh3.googleusercontent.com/a-/AOh14GidxOjj3ciQniMvbosm0jepKjOPlFME4D2TaWrZug=s64",
      "userId": "07850487889650248093"
     },
     "user_tz": -330
    },
    "id": "KKc6U7zYaRrM"
   },
   "outputs": [],
   "source": [
    "def classify_image_with_basemodel(img):\n",
    "    im = Image.fromarray(img.astype('uint8'),'RGB')\n",
    "    im = im.resize((224,224))\n",
    "    arr = np.array(im).reshape((1,224,224,3))\n",
    "    arr = tf.keras.applications.preprocess_input(arr)\n",
    "    prediction = base_model.predict(arr).flatten()\n",
    "    return {labels[i]: float(prediction[i]) for i in range(10)}"
   ]
  },
  {
   "cell_type": "code",
   "execution_count": 39,
   "metadata": {
    "executionInfo": {
     "elapsed": 1038,
     "status": "ok",
     "timestamp": 1619267099819,
     "user": {
      "displayName": "Ravi Shankar",
      "photoUrl": "https://lh3.googleusercontent.com/a-/AOh14GidxOjj3ciQniMvbosm0jepKjOPlFME4D2TaWrZug=s64",
      "userId": "07850487889650248093"
     },
     "user_tz": -330
    },
    "id": "uFQTr8mTY7Rd"
   },
   "outputs": [],
   "source": [
    "imagein = gr.inputs.Image()\n",
    "label = gr.outputs.Label(num_top_classes=3)\n",
    "sample_images = [\n",
    "                 [\"Images/audi.jpeg\"],\n",
    "                 [\"Images/lamborghini.png\"],\n",
    "                 [\"Images/lexus.jpeg\"],\n",
    "                 [\"Images/KIA.jpeg\"],\n",
    "                 [\"Images/mahindra_cars.jpeg\"],\n",
    "                 [\"Images/suzuki_cars.jpeg\"],\n",
    "                 [\"Images/tata_cars.jpeg\"],\n",
    "                 [\"Images/mercedes_benz.jpeg\"],\n",
    "                 [\"Images/Ford.jpeg\"],\n",
    "                 [\"Images/honda_cars.jpeg\"],\n",
    "                 ]"
   ]
  },
  {
   "cell_type": "code",
   "execution_count": null,
   "metadata": {
    "colab": {
     "base_uri": "https://localhost:8080/",
     "height": 1000
    },
    "executionInfo": {
     "elapsed": 265926,
     "status": "error",
     "timestamp": 1619267374668,
     "user": {
      "displayName": "Ravi Shankar",
      "photoUrl": "https://lh3.googleusercontent.com/a-/AOh14GidxOjj3ciQniMvbosm0jepKjOPlFME4D2TaWrZug=s64",
      "userId": "07850487889650248093"
     },
     "user_tz": -330
    },
    "id": "n4TWgNSfY7Re",
    "outputId": "7ababb01-e738-4a2c-9292-5a317aabfe4e"
   },
   "outputs": [
    {
     "name": "stdout",
     "output_type": "stream",
     "text": [
      "Running locally at: http://127.0.0.1:7866/\n",
      "This share link will expire in 24 hours. If you need a permanent link, visit: https://gradio.app/introducing-hosted (NEW!)\n",
      "Running on External URL: https://14230.gradio.app\n",
      "Interface loading below...\n"
     ]
    },
    {
     "data": {
      "text/html": [
       "\n",
       "        <iframe\n",
       "            width=\"1000\"\n",
       "            height=\"500\"\n",
       "            src=\"https://14230.gradio.app\"\n",
       "            frameborder=\"0\"\n",
       "            allowfullscreen\n",
       "        ></iframe>\n",
       "        "
      ],
      "text/plain": [
       "<IPython.lib.display.IFrame at 0x7efdb5478110>"
      ]
     },
     "metadata": {},
     "output_type": "display_data"
    }
   ],
   "source": [
    "gr.Interface(\n",
    "    [classify_image_with_inceptionv3, classify_image_with_vgg16],\n",
    "    imagein,\n",
    "    label,\n",
    "    title=\"InceptionV3 vs. VGG16\",\n",
    "    description=\"\"\"Let's compare 2 state-of-the-art machine learning models that classify images into one of 10 categories: Inceptionv3 (top),\n",
    "          a lightweight model that has an accuracy of 0.97, vs. InceptionNet\n",
    "          (bottom), a much heavier model that has an accuracy of 0.779.\"\"\",\n",
    "    examples=sample_images).launch(debug = True,share = True);"
   ]
  },
  {
   "cell_type": "code",
   "execution_count": null,
   "metadata": {
    "id": "8oN6ZXGvY7Re"
   },
   "outputs": [],
   "source": []
  }
 ],
 "metadata": {
  "colab": {
   "collapsed_sections": [],
   "name": "gradio.ipynb",
   "provenance": []
  },
  "kernelspec": {
   "display_name": "Python 3",
   "language": "python",
   "name": "python3"
  },
  "language_info": {
   "codemirror_mode": {
    "name": "ipython",
    "version": 3
   },
   "file_extension": ".py",
   "mimetype": "text/x-python",
   "name": "python",
   "nbconvert_exporter": "python",
   "pygments_lexer": "ipython3",
   "version": "3.7.6"
  }
 },
 "nbformat": 4,
 "nbformat_minor": 1
}
