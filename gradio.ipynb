{
 "cells": [
  {
   "cell_type": "code",
   "execution_count": 1,
   "metadata": {},
   "outputs": [
    {
     "name": "stdout",
     "output_type": "stream",
     "text": [
      "Collecting gradio\n",
      "  Downloading gradio-1.6.4-py3-none-any.whl (1.1 MB)\n",
      "\u001b[K     |████████████████████████████████| 1.1 MB 67 kB/s eta 0:00:011\n",
      "\u001b[?25hCollecting ffmpy\n",
      "  Downloading ffmpy-0.3.0.tar.gz (4.8 kB)\n",
      "Collecting markdown2\n",
      "  Downloading markdown2-2.4.0-py2.py3-none-any.whl (34 kB)\n",
      "Requirement already satisfied: scikit-image in /home/sai/anaconda3/lib/python3.7/site-packages (from gradio) (0.16.2)\n",
      "Requirement already satisfied: Flask-Cors>=3.0.8 in /home/sai/anaconda3/lib/python3.7/site-packages (from gradio) (3.0.8)\n",
      "Collecting librosa\n",
      "  Downloading librosa-0.8.0.tar.gz (183 kB)\n",
      "\u001b[K     |████████████████████████████████| 183 kB 33 kB/s eta 0:00:01\n",
      "\u001b[?25hRequirement already satisfied: Flask>=1.1.1 in /home/sai/anaconda3/lib/python3.7/site-packages (from gradio) (1.1.2)\n",
      "Collecting Flask-BasicAuth\n",
      "  Downloading Flask-BasicAuth-0.2.0.tar.gz (16 kB)\n",
      "Requirement already satisfied: scipy in /home/sai/anaconda3/lib/python3.7/site-packages (from gradio) (1.4.1)\n",
      "Collecting paramiko\n",
      "  Downloading paramiko-2.7.2-py2.py3-none-any.whl (206 kB)\n",
      "\u001b[K     |████████████████████████████████| 206 kB 101 kB/s eta 0:00:01\n",
      "\u001b[?25hRequirement already satisfied: numpy in /home/sai/anaconda3/lib/python3.7/site-packages (from gradio) (1.18.1)\n",
      "Collecting flask-cachebuster\n",
      "  Downloading Flask-CacheBuster-1.0.0.tar.gz (3.1 kB)\n",
      "Requirement already satisfied: IPython in /home/sai/anaconda3/lib/python3.7/site-packages (from gradio) (7.12.0)\n",
      "Requirement already satisfied: pandas in /home/sai/anaconda3/lib/python3.7/site-packages (from gradio) (0.25.3)\n",
      "Requirement already satisfied: colorama>=0.3.9 in /home/sai/anaconda3/lib/python3.7/site-packages (from gradio) (0.4.3)\n",
      "Requirement already satisfied: requests in /home/sai/anaconda3/lib/python3.7/site-packages (from gradio) (2.25.1)\n",
      "Collecting analytics-python\n",
      "  Downloading analytics_python-1.2.9-py2.py3-none-any.whl (13 kB)\n",
      "Requirement already satisfied: imageio>=2.3.0 in /home/sai/anaconda3/lib/python3.7/site-packages (from scikit-image->gradio) (2.6.1)\n",
      "Requirement already satisfied: PyWavelets>=0.4.0 in /home/sai/anaconda3/lib/python3.7/site-packages (from scikit-image->gradio) (1.1.1)\n",
      "Requirement already satisfied: networkx>=2.0 in /home/sai/anaconda3/lib/python3.7/site-packages (from scikit-image->gradio) (2.4)\n",
      "Requirement already satisfied: pillow>=4.3.0 in /home/sai/anaconda3/lib/python3.7/site-packages (from scikit-image->gradio) (7.0.0)\n",
      "Requirement already satisfied: matplotlib!=3.0.0,>=2.0.0 in /home/sai/anaconda3/lib/python3.7/site-packages (from scikit-image->gradio) (3.4.1)\n",
      "Requirement already satisfied: Six in /home/sai/anaconda3/lib/python3.7/site-packages (from Flask-Cors>=3.0.8->gradio) (1.14.0)\n",
      "Collecting audioread>=2.0.0\n",
      "  Downloading audioread-2.1.9.tar.gz (377 kB)\n",
      "\u001b[K     |████████████████████████████████| 377 kB 106 kB/s eta 0:00:01\n",
      "\u001b[?25hRequirement already satisfied: scikit-learn!=0.19.0,>=0.14.0 in /home/sai/anaconda3/lib/python3.7/site-packages (from librosa->gradio) (0.22.1)\n",
      "Requirement already satisfied: joblib>=0.14 in /home/sai/anaconda3/lib/python3.7/site-packages (from librosa->gradio) (0.14.1)\n",
      "Requirement already satisfied: decorator>=3.0.0 in /home/sai/anaconda3/lib/python3.7/site-packages (from librosa->gradio) (4.4.1)\n",
      "Collecting resampy>=0.2.2\n",
      "  Downloading resampy-0.2.2.tar.gz (323 kB)\n",
      "\u001b[K     |████████████████████████████████| 323 kB 131 kB/s eta 0:00:01\n",
      "\u001b[?25hRequirement already satisfied: numba>=0.43.0 in /home/sai/anaconda3/lib/python3.7/site-packages (from librosa->gradio) (0.48.0)\n",
      "Collecting soundfile>=0.9.0\n",
      "  Downloading SoundFile-0.10.3.post1-py2.py3-none-any.whl (21 kB)\n",
      "Collecting pooch>=1.0\n",
      "  Downloading pooch-1.3.0-py3-none-any.whl (51 kB)\n",
      "\u001b[K     |████████████████████████████████| 51 kB 25 kB/s  eta 0:00:01\n",
      "\u001b[?25hRequirement already satisfied: click>=5.1 in /home/sai/anaconda3/lib/python3.7/site-packages (from Flask>=1.1.1->gradio) (7.0)\n",
      "Requirement already satisfied: itsdangerous>=0.24 in /home/sai/anaconda3/lib/python3.7/site-packages (from Flask>=1.1.1->gradio) (1.1.0)\n",
      "Requirement already satisfied: Jinja2>=2.10.1 in /home/sai/anaconda3/lib/python3.7/site-packages (from Flask>=1.1.1->gradio) (2.11.3)\n",
      "Requirement already satisfied: Werkzeug>=0.15 in /home/sai/anaconda3/lib/python3.7/site-packages (from Flask>=1.1.1->gradio) (0.16.1)\n",
      "Collecting pynacl>=1.0.1\n",
      "  Downloading PyNaCl-1.4.0-cp35-abi3-manylinux1_x86_64.whl (961 kB)\n",
      "\u001b[K     |████████████████████████████████| 961 kB 75 kB/s eta 0:00:011\n",
      "\u001b[?25hRequirement already satisfied: cryptography>=2.5 in /home/sai/anaconda3/lib/python3.7/site-packages (from paramiko->gradio) (2.8)\n",
      "Collecting bcrypt>=3.1.3\n",
      "  Downloading bcrypt-3.2.0-cp36-abi3-manylinux2010_x86_64.whl (63 kB)\n",
      "\u001b[K     |████████████████████████████████| 63 kB 84 kB/s eta 0:00:01\n",
      "\u001b[?25hRequirement already satisfied: traitlets>=4.2 in /home/sai/anaconda3/lib/python3.7/site-packages (from IPython->gradio) (4.3.3)\n",
      "Requirement already satisfied: jedi>=0.10 in /home/sai/anaconda3/lib/python3.7/site-packages (from IPython->gradio) (0.16.0)\n",
      "Requirement already satisfied: pickleshare in /home/sai/anaconda3/lib/python3.7/site-packages (from IPython->gradio) (0.7.5)\n",
      "Requirement already satisfied: pygments in /home/sai/anaconda3/lib/python3.7/site-packages (from IPython->gradio) (2.5.2)\n",
      "Requirement already satisfied: backcall in /home/sai/anaconda3/lib/python3.7/site-packages (from IPython->gradio) (0.1.0)\n",
      "Requirement already satisfied: setuptools>=18.5 in /home/sai/anaconda3/lib/python3.7/site-packages (from IPython->gradio) (45.2.0.post20200210)\n",
      "Requirement already satisfied: prompt-toolkit!=3.0.0,!=3.0.1,<3.1.0,>=2.0.0 in /home/sai/anaconda3/lib/python3.7/site-packages (from IPython->gradio) (3.0.3)\n",
      "Requirement already satisfied: pexpect; sys_platform != \"win32\" in /home/sai/anaconda3/lib/python3.7/site-packages (from IPython->gradio) (4.8.0)\n",
      "Requirement already satisfied: python-dateutil>=2.6.1 in /home/sai/anaconda3/lib/python3.7/site-packages (from pandas->gradio) (2.8.1)\n",
      "Requirement already satisfied: pytz>=2017.2 in /home/sai/anaconda3/lib/python3.7/site-packages (from pandas->gradio) (2019.3)\n",
      "Requirement already satisfied: chardet<5,>=3.0.2 in /home/sai/anaconda3/lib/python3.7/site-packages (from requests->gradio) (3.0.4)\n",
      "Requirement already satisfied: certifi>=2017.4.17 in /home/sai/anaconda3/lib/python3.7/site-packages (from requests->gradio) (2020.12.5)\n",
      "Requirement already satisfied: urllib3<1.27,>=1.21.1 in /home/sai/anaconda3/lib/python3.7/site-packages (from requests->gradio) (1.25.8)\n",
      "Requirement already satisfied: idna<3,>=2.5 in /home/sai/anaconda3/lib/python3.7/site-packages (from requests->gradio) (2.8)\n",
      "Requirement already satisfied: kiwisolver>=1.0.1 in /home/sai/anaconda3/lib/python3.7/site-packages (from matplotlib!=3.0.0,>=2.0.0->scikit-image->gradio) (1.1.0)\n",
      "Requirement already satisfied: pyparsing>=2.2.1 in /home/sai/anaconda3/lib/python3.7/site-packages (from matplotlib!=3.0.0,>=2.0.0->scikit-image->gradio) (2.4.6)\n",
      "Requirement already satisfied: cycler>=0.10 in /home/sai/anaconda3/lib/python3.7/site-packages (from matplotlib!=3.0.0,>=2.0.0->scikit-image->gradio) (0.10.0)\n",
      "Requirement already satisfied: llvmlite<0.32.0,>=0.31.0dev0 in /home/sai/anaconda3/lib/python3.7/site-packages (from numba>=0.43.0->librosa->gradio) (0.31.0)\n",
      "Requirement already satisfied: cffi>=1.0 in /home/sai/anaconda3/lib/python3.7/site-packages (from soundfile>=0.9.0->librosa->gradio) (1.14.0)\n",
      "Requirement already satisfied: packaging in /home/sai/anaconda3/lib/python3.7/site-packages (from pooch>=1.0->librosa->gradio) (20.1)\n",
      "Collecting appdirs\n",
      "  Downloading appdirs-1.4.4-py2.py3-none-any.whl (9.6 kB)\n",
      "Requirement already satisfied: MarkupSafe>=0.23 in /home/sai/anaconda3/lib/python3.7/site-packages (from Jinja2>=2.10.1->Flask>=1.1.1->gradio) (1.1.1)\n",
      "Requirement already satisfied: ipython-genutils in /home/sai/anaconda3/lib/python3.7/site-packages (from traitlets>=4.2->IPython->gradio) (0.2.0)\n",
      "Requirement already satisfied: parso>=0.5.2 in /home/sai/anaconda3/lib/python3.7/site-packages (from jedi>=0.10->IPython->gradio) (0.6.1)\n",
      "Requirement already satisfied: wcwidth in /home/sai/anaconda3/lib/python3.7/site-packages (from prompt-toolkit!=3.0.0,!=3.0.1,<3.1.0,>=2.0.0->IPython->gradio) (0.1.8)\n",
      "Requirement already satisfied: ptyprocess>=0.5 in /home/sai/anaconda3/lib/python3.7/site-packages (from pexpect; sys_platform != \"win32\"->IPython->gradio) (0.6.0)\n",
      "Requirement already satisfied: pycparser in /home/sai/anaconda3/lib/python3.7/site-packages (from cffi>=1.0->soundfile>=0.9.0->librosa->gradio) (2.19)\n"
     ]
    },
    {
     "name": "stdout",
     "output_type": "stream",
     "text": [
      "Building wheels for collected packages: ffmpy, librosa, Flask-BasicAuth, flask-cachebuster, audioread, resampy\n",
      "  Building wheel for ffmpy (setup.py) ... \u001b[?25ldone\n",
      "\u001b[?25h  Created wheel for ffmpy: filename=ffmpy-0.3.0-py3-none-any.whl size=4709 sha256=d43cfa2566acad361d5d16368d69be765c3f4efe5daba03d912e5eaaa294c1b0\n",
      "  Stored in directory: /home/sai/.cache/pip/wheels/13/e4/6c/e8059816e86796a597c6e6b0d4c880630f51a1fcfa0befd5e6\n",
      "  Building wheel for librosa (setup.py) ... \u001b[?25ldone\n",
      "\u001b[?25h  Created wheel for librosa: filename=librosa-0.8.0-py3-none-any.whl size=201374 sha256=3ba3ebf894fe9b5aebd1b5bf11c8931271642c127b997d80708b805f1bc01cd8\n",
      "  Stored in directory: /home/sai/.cache/pip/wheels/de/1e/aa/d91797ae7e1ce11853ee100bee9d1781ae9d750e7458c95afb\n",
      "  Building wheel for Flask-BasicAuth (setup.py) ... \u001b[?25ldone\n",
      "\u001b[?25h  Created wheel for Flask-BasicAuth: filename=Flask_BasicAuth-0.2.0-py3-none-any.whl size=4227 sha256=c1909a8b7b4580393118343ff71c8a8e1f4750c5268c2cecd57d1c3e2b406d47\n",
      "  Stored in directory: /home/sai/.cache/pip/wheels/d5/08/a3/19638d90fdf01258ede772449bcbde424839459749acb977b6\n",
      "  Building wheel for flask-cachebuster (setup.py) ... \u001b[?25ldone\n",
      "\u001b[?25h  Created wheel for flask-cachebuster: filename=Flask_CacheBuster-1.0.0-py3-none-any.whl size=3371 sha256=42119e3c633d9845009fc5a208ecfb9b440a1355d7a8e5ca1cc2bca3cd25765c\n",
      "  Stored in directory: /home/sai/.cache/pip/wheels/28/c0/c4/44687421dab41455be93112bd1b0dee1f3c5a9aa27bee63708\n",
      "  Building wheel for audioread (setup.py) ... \u001b[?25ldone\n",
      "\u001b[?25h  Created wheel for audioread: filename=audioread-2.1.9-py3-none-any.whl size=23142 sha256=5f2c6862ab33546d10ed07a360743de752af2093c2b2ba76a5c347c44e35bc19\n",
      "  Stored in directory: /home/sai/.cache/pip/wheels/ba/7b/eb/213741ccc0678f63e346ab8dff10495995ca3f426af87b8d88\n",
      "  Building wheel for resampy (setup.py) ... \u001b[?25ldone\n",
      "\u001b[?25h  Created wheel for resampy: filename=resampy-0.2.2-py3-none-any.whl size=320720 sha256=98e4985e66d19f4ee1a519eebb9525c831b9fe7fb778a47373b90ca9cc0caba3\n",
      "  Stored in directory: /home/sai/.cache/pip/wheels/a0/18/0a/8ad18a597d8333a142c9789338a96a6208f1198d290ece356c\n",
      "Successfully built ffmpy librosa Flask-BasicAuth flask-cachebuster audioread resampy\n",
      "Installing collected packages: ffmpy, markdown2, audioread, resampy, soundfile, appdirs, pooch, librosa, Flask-BasicAuth, pynacl, bcrypt, paramiko, flask-cachebuster, analytics-python, gradio\n",
      "Successfully installed Flask-BasicAuth-0.2.0 analytics-python-1.2.9 appdirs-1.4.4 audioread-2.1.9 bcrypt-3.2.0 ffmpy-0.3.0 flask-cachebuster-1.0.0 gradio-1.6.4 librosa-0.8.0 markdown2-2.4.0 paramiko-2.7.2 pooch-1.3.0 pynacl-1.4.0 resampy-0.2.2 soundfile-0.10.3.post1\n"
     ]
    }
   ],
   "source": [
    "!pip install gradio"
   ]
  },
  {
   "cell_type": "code",
   "execution_count": 2,
   "metadata": {},
   "outputs": [
    {
     "name": "stdout",
     "output_type": "stream",
     "text": [
      "2.2.0\n"
     ]
    }
   ],
   "source": [
    "import tensorflow as tf\n",
    "print(tf.__version__)"
   ]
  },
  {
   "cell_type": "code",
   "execution_count": 36,
   "metadata": {},
   "outputs": [],
   "source": [
    "import gradio as gr\n",
    "import numpy as np\n",
    "from PIL import Image\n",
    "import requests\n",
    "from keras.models import load_model"
   ]
  },
  {
   "cell_type": "code",
   "execution_count": 23,
   "metadata": {},
   "outputs": [],
   "source": [
    "labels = [\"Audi\",\"Lamborghini\",\"Mercedes Benz\",\"Others\"]"
   ]
  },
  {
   "cell_type": "code",
   "execution_count": 24,
   "metadata": {},
   "outputs": [
    {
     "data": {
      "text/plain": [
       "['Audi', 'Lamborghini', 'Mercedes Benz', 'Others']"
      ]
     },
     "execution_count": 24,
     "metadata": {},
     "output_type": "execute_result"
    }
   ],
   "source": [
    "labels"
   ]
  },
  {
   "cell_type": "code",
   "execution_count": 37,
   "metadata": {},
   "outputs": [],
   "source": [
    "inception_model = load_model(\"model_inceptionv3.h5\")"
   ]
  },
  {
   "cell_type": "code",
   "execution_count": 38,
   "metadata": {},
   "outputs": [],
   "source": [
    "vgg16_model = load_model(\"model_vgg16.h5\")"
   ]
  },
  {
   "cell_type": "code",
   "execution_count": 39,
   "metadata": {},
   "outputs": [],
   "source": [
    "def classify_image_with_inceptionv3(img):\n",
    "    im = Image.fromarray(img.astype('uint8'),'RGB')\n",
    "    im = im.resize((224,224))\n",
    "    arr = np.array(im).reshape((1,224,224,3))\n",
    "    arr = tf.keras.applications.inception_v3.preprocess_input(arr)\n",
    "    prediction = inception_model.predict(arr).flatten()\n",
    "    return {labels[i]: float(prediction[i]) for i in range(4)}"
   ]
  },
  {
   "cell_type": "code",
   "execution_count": 40,
   "metadata": {},
   "outputs": [],
   "source": [
    "def classify_image_with_vgg16(img):\n",
    "    im = Image.fromarray(img.astype('uint8'),'RGB')\n",
    "    im = im.resize((224,224))\n",
    "    arr = np.array(im).reshape((1,224,224,3))\n",
    "    arr = tf.keras.applications.vgg16.preprocess_input(arr)\n",
    "    prediction = vgg16_model.predict(arr).flatten()\n",
    "    return {labels[i]: float(prediction[i]) for i in range(4)}"
   ]
  },
  {
   "cell_type": "code",
   "execution_count": 43,
   "metadata": {},
   "outputs": [],
   "source": [
    "imagein = gr.inputs.Image()\n",
    "label = gr.outputs.Label(num_top_classes=4)\n",
    "sample_images = [\n",
    "                 [\"audi.jpg\"],\n",
    "                 [\"lamborghini.jpg\"],\n",
    "                 [\"benz.jpg\"],\n",
    "                 [\"lexus.jpg\"],\n",
    "                 [\"suzuki.jpg\"],\n",
    "                 [\"honda.jpg\"],\n",
    "                 [\"audi1.jpg\"],\n",
    "                 [\"lamborghini1.jpg\"],\n",
    "                 [\"benz1.jpg\"],\n",
    "                 [\"lexus1.jpg\"],\n",
    "                 [\"suzuki1.jpg\"],\n",
    "                 [\"honda1.jpg\"]\n",
    "]"
   ]
  },
  {
   "cell_type": "code",
   "execution_count": 44,
   "metadata": {},
   "outputs": [
    {
     "name": "stdout",
     "output_type": "stream",
     "text": [
      "Running locally at: http://127.0.0.1:7862/\n",
      "To create a public link, set `share=True` in `launch()`.\n",
      "Interface loading below...\n"
     ]
    },
    {
     "data": {
      "text/html": [
       "\n",
       "        <iframe\n",
       "            width=\"1000\"\n",
       "            height=\"500\"\n",
       "            src=\"http://127.0.0.1:7862/\"\n",
       "            frameborder=\"0\"\n",
       "            allowfullscreen\n",
       "        ></iframe>\n",
       "        "
      ],
      "text/plain": [
       "<IPython.lib.display.IFrame at 0x7f417f2e9b10>"
      ]
     },
     "metadata": {},
     "output_type": "display_data"
    }
   ],
   "source": [
    "gr.Interface(\n",
    "    [classify_image_with_inceptionv3, classify_image_with_vgg16],\n",
    "    imagein,\n",
    "    label,\n",
    "    title=\"InceptionV3 vs. VGG16\",\n",
    "    description=\"\"\"Let's compare 2 state-of-the-art machine learning models that classify images into one of 1,000 categories: MobileNet (top),\n",
    "          a lightweight model that has an accuracy of 0.704, vs. InceptionNet\n",
    "          (bottom), a much heavier model that has an accuracy of 0.779.\"\"\",\n",
    "    examples=sample_images).launch();"
   ]
  },
  {
   "cell_type": "code",
   "execution_count": null,
   "metadata": {},
   "outputs": [],
   "source": []
  }
 ],
 "metadata": {
  "kernelspec": {
   "display_name": "Python 3",
   "language": "python",
   "name": "python3"
  },
  "language_info": {
   "codemirror_mode": {
    "name": "ipython",
    "version": 3
   },
   "file_extension": ".py",
   "mimetype": "text/x-python",
   "name": "python",
   "nbconvert_exporter": "python",
   "pygments_lexer": "ipython3",
   "version": "3.7.6"
  }
 },
 "nbformat": 4,
 "nbformat_minor": 4
}
