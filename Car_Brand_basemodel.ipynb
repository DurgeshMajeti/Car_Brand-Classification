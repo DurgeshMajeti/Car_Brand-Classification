{
 "cells": [
  {
   "cell_type": "code",
   "execution_count": 1,
   "metadata": {
    "executionInfo": {
     "elapsed": 2366,
     "status": "ok",
     "timestamp": 1619249894270,
     "user": {
      "displayName": "Ravi Shankar",
      "photoUrl": "https://lh3.googleusercontent.com/a-/AOh14GidxOjj3ciQniMvbosm0jepKjOPlFME4D2TaWrZug=s64",
      "userId": "07850487889650248093"
     },
     "user_tz": -330
    },
    "id": "6AhMpBOy408Z"
   },
   "outputs": [],
   "source": [
    "from tensorflow import keras\n",
    "\n",
    "from keras.layers import Dense,Flatten,Conv2D,MaxPooling2D,Dropout\n",
    "from keras.models import Model,Sequential\n",
    "from glob import glob\n",
    "from keras.preprocessing import image\n",
    "from keras.preprocessing.image import ImageDataGenerator,load_img\n",
    "\n",
    "import matplotlib.pyplot as plt"
   ]
  },
  {
   "cell_type": "code",
   "execution_count": 3,
   "metadata": {
    "executionInfo": {
     "elapsed": 2360,
     "status": "ok",
     "timestamp": 1619249894276,
     "user": {
      "displayName": "Ravi Shankar",
      "photoUrl": "https://lh3.googleusercontent.com/a-/AOh14GidxOjj3ciQniMvbosm0jepKjOPlFME4D2TaWrZug=s64",
      "userId": "07850487889650248093"
     },
     "user_tz": -330
    },
    "id": "2MMtywos408c"
   },
   "outputs": [],
   "source": [
    "##Preprocessing the data\n",
    "Image_size = [224,224]\n",
    "\n",
    "train_path = 'Datasets/Train'\n",
    "test_path = 'Datasets/Test'"
   ]
  },
  {
   "cell_type": "code",
   "execution_count": 6,
   "metadata": {
    "colab": {
     "base_uri": "https://localhost:8080/",
     "height": 35
    },
    "executionInfo": {
     "elapsed": 841,
     "status": "ok",
     "timestamp": 1619253168240,
     "user": {
      "displayName": "Ravi Shankar",
      "photoUrl": "https://lh3.googleusercontent.com/a-/AOh14GidxOjj3ciQniMvbosm0jepKjOPlFME4D2TaWrZug=s64",
      "userId": "07850487889650248093"
     },
     "user_tz": -330
    },
    "id": "35tEkbnJ_EOK",
    "outputId": "18ef1cd5-09f8-41e7-f15b-c001159ea891"
   },
   "outputs": [
    {
     "data": {
      "text/plain": [
       "10"
      ]
     },
     "execution_count": 6,
     "metadata": {},
     "output_type": "execute_result"
    }
   ],
   "source": [
    "a= glob('Datasets/Train/*')\n",
    "len(a)"
   ]
  },
  {
   "cell_type": "code",
   "execution_count": 7,
   "metadata": {
    "executionInfo": {
     "elapsed": 22956,
     "status": "ok",
     "timestamp": 1619249914889,
     "user": {
      "displayName": "Ravi Shankar",
      "photoUrl": "https://lh3.googleusercontent.com/a-/AOh14GidxOjj3ciQniMvbosm0jepKjOPlFME4D2TaWrZug=s64",
      "userId": "07850487889650248093"
     },
     "user_tz": -330
    },
    "id": "63VvmZxg408d"
   },
   "outputs": [],
   "source": [
    "##Image Data Generator\n",
    "\n",
    "train_datagen = ImageDataGenerator(rescale = 1/255,\n",
    "                                   shear_range = 0.2,\n",
    "                                   zoom_range = 0.2,\n",
    "                                   horizontal_flip = True)\n",
    "\n",
    "test_datagen = ImageDataGenerator(rescale = 1/255)"
   ]
  },
  {
   "cell_type": "code",
   "execution_count": 8,
   "metadata": {
    "colab": {
     "base_uri": "https://localhost:8080/"
    },
    "executionInfo": {
     "elapsed": 25382,
     "status": "ok",
     "timestamp": 1619249917320,
     "user": {
      "displayName": "Ravi Shankar",
      "photoUrl": "https://lh3.googleusercontent.com/a-/AOh14GidxOjj3ciQniMvbosm0jepKjOPlFME4D2TaWrZug=s64",
      "userId": "07850487889650248093"
     },
     "user_tz": -330
    },
    "id": "uBt3T6Er408e",
    "outputId": "84c2184a-4ed0-4eaa-bb03-0c19108f2878"
   },
   "outputs": [
    {
     "name": "stdout",
     "output_type": "stream",
     "text": [
      "Found 600 images belonging to 10 classes.\n"
     ]
    }
   ],
   "source": [
    "training_set = train_datagen.flow_from_directory(train_path,\n",
    "                                               batch_size = 32,\n",
    "                                               target_size = (224,224),\n",
    "                                               class_mode = \"categorical\")"
   ]
  },
  {
   "cell_type": "code",
   "execution_count": 9,
   "metadata": {
    "colab": {
     "base_uri": "https://localhost:8080/"
    },
    "executionInfo": {
     "elapsed": 25970,
     "status": "ok",
     "timestamp": 1619249917914,
     "user": {
      "displayName": "Ravi Shankar",
      "photoUrl": "https://lh3.googleusercontent.com/a-/AOh14GidxOjj3ciQniMvbosm0jepKjOPlFME4D2TaWrZug=s64",
      "userId": "07850487889650248093"
     },
     "user_tz": -330
    },
    "id": "Ah_3F6vU408g",
    "outputId": "bd4eee10-f7cb-498a-f32e-a7b7f8fd3e21"
   },
   "outputs": [
    {
     "name": "stdout",
     "output_type": "stream",
     "text": [
      "Found 100 images belonging to 10 classes.\n"
     ]
    }
   ],
   "source": [
    "test_set = test_datagen.flow_from_directory(test_path,\n",
    "                                               batch_size = 32,\n",
    "                                               target_size = (224,224),\n",
    "                                               class_mode = \"categorical\") "
   ]
  },
  {
   "cell_type": "code",
   "execution_count": 10,
   "metadata": {
    "executionInfo": {
     "elapsed": 31677,
     "status": "ok",
     "timestamp": 1619249923626,
     "user": {
      "displayName": "Ravi Shankar",
      "photoUrl": "https://lh3.googleusercontent.com/a-/AOh14GidxOjj3ciQniMvbosm0jepKjOPlFME4D2TaWrZug=s64",
      "userId": "07850487889650248093"
     },
     "user_tz": -330
    },
    "id": "vBOZrFTo408j"
   },
   "outputs": [],
   "source": [
    "##Creating the DL Model\n",
    "from keras import layers\n",
    "model = Sequential()\n",
    "\n",
    "model.add(Conv2D(filters = 32,strides=1,padding=\"valid\",kernel_size=(3,3),activation=\"relu\",input_shape = (224,224,3)))\n",
    "model.add(Dropout(0.4))\n",
    "model.add(MaxPooling2D(pool_size = (2,2)))\n",
    "\n",
    "model.add(Conv2D(filters = 64,strides=1,padding=\"valid\",kernel_size=(3,3),activation=\"relu\"))\n",
    "model.add(Dropout(0.4))\n",
    "model.add(MaxPooling2D(2,2))\n",
    "\n",
    "\n",
    "model.add(Flatten())\n",
    "model.add(Dense(300,activation = \"relu\"))\n",
    "model.add(Dense(100,activation = \"relu\"))\n",
    "\n",
    "model.add(Dense(10,activation = \"softmax\"))"
   ]
  },
  {
   "cell_type": "code",
   "execution_count": 11,
   "metadata": {
    "colab": {
     "base_uri": "https://localhost:8080/"
    },
    "executionInfo": {
     "elapsed": 31673,
     "status": "ok",
     "timestamp": 1619249923627,
     "user": {
      "displayName": "Ravi Shankar",
      "photoUrl": "https://lh3.googleusercontent.com/a-/AOh14GidxOjj3ciQniMvbosm0jepKjOPlFME4D2TaWrZug=s64",
      "userId": "07850487889650248093"
     },
     "user_tz": -330
    },
    "id": "UJ8ZwJcF408k",
    "outputId": "f43cebfd-a448-4769-98f3-a82a0f2e7a17"
   },
   "outputs": [
    {
     "name": "stdout",
     "output_type": "stream",
     "text": [
      "Model: \"sequential\"\n",
      "_________________________________________________________________\n",
      "Layer (type)                 Output Shape              Param #   \n",
      "=================================================================\n",
      "conv2d (Conv2D)              (None, 222, 222, 32)      896       \n",
      "_________________________________________________________________\n",
      "dropout (Dropout)            (None, 222, 222, 32)      0         \n",
      "_________________________________________________________________\n",
      "max_pooling2d (MaxPooling2D) (None, 111, 111, 32)      0         \n",
      "_________________________________________________________________\n",
      "conv2d_1 (Conv2D)            (None, 109, 109, 64)      18496     \n",
      "_________________________________________________________________\n",
      "dropout_1 (Dropout)          (None, 109, 109, 64)      0         \n",
      "_________________________________________________________________\n",
      "max_pooling2d_1 (MaxPooling2 (None, 54, 54, 64)        0         \n",
      "_________________________________________________________________\n",
      "flatten (Flatten)            (None, 186624)            0         \n",
      "_________________________________________________________________\n",
      "dense (Dense)                (None, 300)               55987500  \n",
      "_________________________________________________________________\n",
      "dense_1 (Dense)              (None, 100)               30100     \n",
      "_________________________________________________________________\n",
      "dense_2 (Dense)              (None, 10)                1010      \n",
      "=================================================================\n",
      "Total params: 56,038,002\n",
      "Trainable params: 56,038,002\n",
      "Non-trainable params: 0\n",
      "_________________________________________________________________\n"
     ]
    }
   ],
   "source": [
    "model.summary()"
   ]
  },
  {
   "cell_type": "code",
   "execution_count": 12,
   "metadata": {
    "executionInfo": {
     "elapsed": 31669,
     "status": "ok",
     "timestamp": 1619249923628,
     "user": {
      "displayName": "Ravi Shankar",
      "photoUrl": "https://lh3.googleusercontent.com/a-/AOh14GidxOjj3ciQniMvbosm0jepKjOPlFME4D2TaWrZug=s64",
      "userId": "07850487889650248093"
     },
     "user_tz": -330
    },
    "id": "RNt5_5q8408k"
   },
   "outputs": [],
   "source": [
    "model.compile(loss = \"categorical_crossentropy\",\n",
    "             optimizer = \"adam\",\n",
    "             metrics = \"accuracy\")"
   ]
  },
  {
   "cell_type": "code",
   "execution_count": 11,
   "metadata": {
    "colab": {
     "base_uri": "https://localhost:8080/"
    },
    "executionInfo": {
     "elapsed": 1011056,
     "status": "ok",
     "timestamp": 1619250903020,
     "user": {
      "displayName": "Ravi Shankar",
      "photoUrl": "https://lh3.googleusercontent.com/a-/AOh14GidxOjj3ciQniMvbosm0jepKjOPlFME4D2TaWrZug=s64",
      "userId": "07850487889650248093"
     },
     "user_tz": -330
    },
    "id": "-NilOy7X408l",
    "outputId": "acf9ac0d-4548-4d9a-93c9-52313f29ceca"
   },
   "outputs": [
    {
     "name": "stdout",
     "output_type": "stream",
     "text": [
      "Epoch 1/30\n"
     ]
    },
    {
     "name": "stderr",
     "output_type": "stream",
     "text": [
      "/usr/local/lib/python3.7/dist-packages/PIL/Image.py:960: UserWarning: Palette images with Transparency expressed in bytes should be converted to RGBA images\n",
      "  \"Palette images with Transparency expressed in bytes should be \"\n"
     ]
    },
    {
     "name": "stdout",
     "output_type": "stream",
     "text": [
      "19/19 [==============================] - 255s 12s/step - loss: 16.3226 - accuracy: 0.1514 - val_loss: 2.2828 - val_accuracy: 0.1100\n",
      "Epoch 2/30\n",
      "19/19 [==============================] - 25s 1s/step - loss: 2.2742 - accuracy: 0.1297 - val_loss: 2.2427 - val_accuracy: 0.2300\n",
      "Epoch 3/30\n",
      "19/19 [==============================] - 25s 1s/step - loss: 2.1864 - accuracy: 0.1628 - val_loss: 2.1770 - val_accuracy: 0.2900\n",
      "Epoch 4/30\n",
      "19/19 [==============================] - 24s 1s/step - loss: 2.1168 - accuracy: 0.2289 - val_loss: 2.1006 - val_accuracy: 0.4000\n",
      "Epoch 5/30\n",
      "19/19 [==============================] - 25s 1s/step - loss: 2.0054 - accuracy: 0.3333 - val_loss: 1.9696 - val_accuracy: 0.4300\n",
      "Epoch 6/30\n",
      "19/19 [==============================] - 24s 1s/step - loss: 1.8128 - accuracy: 0.3936 - val_loss: 1.6979 - val_accuracy: 0.5200\n",
      "Epoch 7/30\n",
      "19/19 [==============================] - 24s 1s/step - loss: 1.7488 - accuracy: 0.3955 - val_loss: 1.6075 - val_accuracy: 0.5300\n",
      "Epoch 8/30\n",
      "19/19 [==============================] - 25s 1s/step - loss: 1.5442 - accuracy: 0.5105 - val_loss: 1.3137 - val_accuracy: 0.6900\n",
      "Epoch 9/30\n",
      "19/19 [==============================] - 25s 1s/step - loss: 1.2468 - accuracy: 0.5454 - val_loss: 1.1666 - val_accuracy: 0.7100\n",
      "Epoch 10/30\n",
      "19/19 [==============================] - 24s 1s/step - loss: 1.2199 - accuracy: 0.5934 - val_loss: 0.9171 - val_accuracy: 0.8100\n",
      "Epoch 11/30\n",
      "19/19 [==============================] - 24s 1s/step - loss: 0.9520 - accuracy: 0.6809 - val_loss: 0.8958 - val_accuracy: 0.8200\n",
      "Epoch 12/30\n",
      "19/19 [==============================] - 24s 1s/step - loss: 0.9106 - accuracy: 0.7214 - val_loss: 0.6332 - val_accuracy: 0.8600\n",
      "Epoch 13/30\n",
      "19/19 [==============================] - 24s 1s/step - loss: 0.7064 - accuracy: 0.7825 - val_loss: 0.5725 - val_accuracy: 0.8300\n",
      "Epoch 14/30\n",
      "19/19 [==============================] - 25s 1s/step - loss: 0.7234 - accuracy: 0.7896 - val_loss: 0.5006 - val_accuracy: 0.8900\n",
      "Epoch 15/30\n",
      "19/19 [==============================] - 24s 1s/step - loss: 0.5887 - accuracy: 0.8291 - val_loss: 0.4950 - val_accuracy: 0.9200\n",
      "Epoch 16/30\n",
      "19/19 [==============================] - 24s 1s/step - loss: 0.5590 - accuracy: 0.8423 - val_loss: 0.3098 - val_accuracy: 0.9800\n",
      "Epoch 17/30\n",
      "19/19 [==============================] - 24s 1s/step - loss: 0.4079 - accuracy: 0.8891 - val_loss: 0.4077 - val_accuracy: 0.9100\n",
      "Epoch 18/30\n",
      "19/19 [==============================] - 24s 1s/step - loss: 0.3927 - accuracy: 0.8884 - val_loss: 0.3344 - val_accuracy: 0.9300\n",
      "Epoch 19/30\n",
      "19/19 [==============================] - 24s 1s/step - loss: 0.3711 - accuracy: 0.8899 - val_loss: 0.4040 - val_accuracy: 0.8700\n",
      "Epoch 20/30\n",
      "19/19 [==============================] - 24s 1s/step - loss: 0.3672 - accuracy: 0.8986 - val_loss: 0.2738 - val_accuracy: 0.9600\n",
      "Epoch 21/30\n",
      "19/19 [==============================] - 24s 1s/step - loss: 0.2970 - accuracy: 0.9042 - val_loss: 0.4028 - val_accuracy: 0.9300\n",
      "Epoch 22/30\n",
      "19/19 [==============================] - 24s 1s/step - loss: 0.2472 - accuracy: 0.9268 - val_loss: 0.2804 - val_accuracy: 0.9500\n",
      "Epoch 23/30\n",
      "19/19 [==============================] - 24s 1s/step - loss: 0.2693 - accuracy: 0.9193 - val_loss: 0.2387 - val_accuracy: 0.9700\n",
      "Epoch 24/30\n",
      "19/19 [==============================] - 24s 1s/step - loss: 0.2462 - accuracy: 0.9262 - val_loss: 0.2394 - val_accuracy: 0.9400\n",
      "Epoch 25/30\n",
      "19/19 [==============================] - 24s 1s/step - loss: 0.2500 - accuracy: 0.9268 - val_loss: 0.2416 - val_accuracy: 0.9300\n",
      "Epoch 26/30\n",
      "19/19 [==============================] - 24s 1s/step - loss: 0.1970 - accuracy: 0.9545 - val_loss: 0.2440 - val_accuracy: 0.9600\n",
      "Epoch 27/30\n",
      "19/19 [==============================] - 24s 1s/step - loss: 0.2026 - accuracy: 0.9399 - val_loss: 0.1935 - val_accuracy: 0.9700\n",
      "Epoch 28/30\n",
      "19/19 [==============================] - 24s 1s/step - loss: 0.2002 - accuracy: 0.9589 - val_loss: 0.1953 - val_accuracy: 0.9600\n",
      "Epoch 29/30\n",
      "19/19 [==============================] - 24s 1s/step - loss: 0.1265 - accuracy: 0.9617 - val_loss: 0.1962 - val_accuracy: 0.9800\n",
      "Epoch 30/30\n",
      "19/19 [==============================] - 24s 1s/step - loss: 0.1000 - accuracy: 0.9761 - val_loss: 0.3140 - val_accuracy: 0.9100\n"
     ]
    }
   ],
   "source": [
    "##Fit the Model\n",
    "\n",
    "history = model.fit(training_set,epochs = 30,steps_per_epoch = len(training_set),validation_data = test_set,\n",
    "                   validation_steps = len(test_set))"
   ]
  },
  {
   "cell_type": "code",
   "execution_count": 14,
   "metadata": {
    "colab": {
     "base_uri": "https://localhost:8080/",
     "height": 513
    },
    "executionInfo": {
     "elapsed": 1103,
     "status": "ok",
     "timestamp": 1619251665591,
     "user": {
      "displayName": "Ravi Shankar",
      "photoUrl": "https://lh3.googleusercontent.com/a-/AOh14GidxOjj3ciQniMvbosm0jepKjOPlFME4D2TaWrZug=s64",
      "userId": "07850487889650248093"
     },
     "user_tz": -330
    },
    "id": "Hg_Dcl_NzZV4",
    "outputId": "5be4fd24-7749-4d90-a56c-712d184ebb44"
   },
   "outputs": [
    {
     "data": {
      "image/png": "[encoded data removed]",
      "text/plain": [
       "<Figure size 432x288 with 1 Axes>"
      ]
     },
     "metadata": {
      "needs_background": "light",
      "tags": []
     },
     "output_type": "display_data"
    },
    {
     "data": {
      "image/png": "[encoded data removed]",
      "text/plain": [
       "<Figure size 432x288 with 1 Axes>"
      ]
     },
     "metadata": {
      "needs_background": "light",
      "tags": []
     },
     "output_type": "display_data"
    }
   ],
   "source": [
    "#Plot the Loss\n",
    "plt.plot(history.history[\"loss\"],label = \"train_loss\")\n",
    "plt.plot(history.history[\"val_loss\"],label = \"val_loss\")\n",
    "plt.legend()\n",
    "plt.show()\n",
    "\n",
    "#Plot the Accuracy\n",
    "plt.plot(history.history[\"accuracy\"],label = \"train_accuarcy\")\n",
    "plt.plot(history.history[\"val_accuracy\"],label = \"val_accuarcy\")\n",
    "plt.legend()\n",
    "plt.show()"
   ]
  },
  {
   "cell_type": "code",
   "execution_count": 15,
   "metadata": {
    "executionInfo": {
     "elapsed": 6654,
     "status": "ok",
     "timestamp": 1619251684738,
     "user": {
      "displayName": "Ravi Shankar",
      "photoUrl": "https://lh3.googleusercontent.com/a-/AOh14GidxOjj3ciQniMvbosm0jepKjOPlFME4D2TaWrZug=s64",
      "userId": "07850487889650248093"
     },
     "user_tz": -330
    },
    "id": "OBmXh4hg408m"
   },
   "outputs": [],
   "source": [
    "model.save(\"models/base_model.h5\")"
   ]
  },
  {
   "cell_type": "code",
   "execution_count": 16,
   "metadata": {
    "executionInfo": {
     "elapsed": 923,
     "status": "ok",
     "timestamp": 1619251686908,
     "user": {
      "displayName": "Ravi Shankar",
      "photoUrl": "https://lh3.googleusercontent.com/a-/AOh14GidxOjj3ciQniMvbosm0jepKjOPlFME4D2TaWrZug=s64",
      "userId": "07850487889650248093"
     },
     "user_tz": -330
    },
    "id": "mL2SMhVc408m"
   },
   "outputs": [],
   "source": [
    "from keras.models import load_model"
   ]
  },
  {
   "cell_type": "code",
   "execution_count": 19,
   "metadata": {
    "executionInfo": {
     "elapsed": 2781,
     "status": "ok",
     "timestamp": 1619251737613,
     "user": {
      "displayName": "Ravi Shankar",
      "photoUrl": "https://lh3.googleusercontent.com/a-/AOh14GidxOjj3ciQniMvbosm0jepKjOPlFME4D2TaWrZug=s64",
      "userId": "07850487889650248093"
     },
     "user_tz": -330
    },
    "id": "Gl7HmApn408n"
   },
   "outputs": [],
   "source": [
    "base = load_model(\"models/base_model.h5\")"
   ]
  },
  {
   "cell_type": "code",
   "execution_count": 20,
   "metadata": {
    "executionInfo": {
     "elapsed": 925,
     "status": "ok",
     "timestamp": 1619251740994,
     "user": {
      "displayName": "Ravi Shankar",
      "photoUrl": "https://lh3.googleusercontent.com/a-/AOh14GidxOjj3ciQniMvbosm0jepKjOPlFME4D2TaWrZug=s64",
      "userId": "07850487889650248093"
     },
     "user_tz": -330
    },
    "id": "b_4UzgXl0Z0m"
   },
   "outputs": [],
   "source": [
    "from keras.preprocessing import image"
   ]
  },
  {
   "cell_type": "code",
   "execution_count": 21,
   "metadata": {
    "executionInfo": {
     "elapsed": 925,
     "status": "ok",
     "timestamp": 1619251746148,
     "user": {
      "displayName": "Ravi Shankar",
      "photoUrl": "https://lh3.googleusercontent.com/a-/AOh14GidxOjj3ciQniMvbosm0jepKjOPlFME4D2TaWrZug=s64",
      "userId": "07850487889650248093"
     },
     "user_tz": -330
    },
    "id": "s_DE6jqp0UfF"
   },
   "outputs": [],
   "source": [
    "##Get one test image\n",
    "\n",
    "img = load_img(\"Datasets/Test/audi/audi_1.jpeg\",target_size = (224,224))"
   ]
  },
  {
   "cell_type": "code",
   "execution_count": 34,
   "metadata": {
    "colab": {
     "base_uri": "https://localhost:8080/"
    },
    "executionInfo": {
     "elapsed": 5600,
     "status": "ok",
     "timestamp": 1619252106524,
     "user": {
      "displayName": "Ravi Shankar",
      "photoUrl": "https://lh3.googleusercontent.com/a-/AOh14GidxOjj3ciQniMvbosm0jepKjOPlFME4D2TaWrZug=s64",
      "userId": "07850487889650248093"
     },
     "user_tz": -330
    },
    "id": "VShhKe-X7NFi",
    "outputId": "88115ed8-b6f9-4dcd-bc85-cfb40e370aa0"
   },
   "outputs": [
    {
     "name": "stderr",
     "output_type": "stream",
     "text": [
      "/usr/local/lib/python3.7/dist-packages/PIL/Image.py:960: UserWarning: Palette images with Transparency expressed in bytes should be converted to RGBA images\n",
      "  \"Palette images with Transparency expressed in bytes should be \"\n"
     ]
    }
   ],
   "source": [
    "y_pred = base.predict(test_set)"
   ]
  },
  {
   "cell_type": "code",
   "execution_count": null,
   "metadata": {
    "id": "CNL_gRqY7jAU"
   },
   "outputs": [],
   "source": [
    "y_pred"
   ]
  },
  {
   "cell_type": "code",
   "execution_count": 36,
   "metadata": {
    "executionInfo": {
     "elapsed": 917,
     "status": "ok",
     "timestamp": 1619252111616,
     "user": {
      "displayName": "Ravi Shankar",
      "photoUrl": "https://lh3.googleusercontent.com/a-/AOh14GidxOjj3ciQniMvbosm0jepKjOPlFME4D2TaWrZug=s64",
      "userId": "07850487889650248093"
     },
     "user_tz": -330
    },
    "id": "8FQ93gxW7sEV"
   },
   "outputs": [],
   "source": [
    "import numpy as np\n",
    "y_pred = np.argmax(y_pred,axis = 1)"
   ]
  },
  {
   "cell_type": "code",
   "execution_count": 37,
   "metadata": {
    "colab": {
     "base_uri": "https://localhost:8080/"
    },
    "executionInfo": {
     "elapsed": 892,
     "status": "ok",
     "timestamp": 1619252114386,
     "user": {
      "displayName": "Ravi Shankar",
      "photoUrl": "https://lh3.googleusercontent.com/a-/AOh14GidxOjj3ciQniMvbosm0jepKjOPlFME4D2TaWrZug=s64",
      "userId": "07850487889650248093"
     },
     "user_tz": -330
    },
    "id": "bR-toNQf8Ahk",
    "outputId": "6c38fe32-d9d1-4bb9-fc2b-6a5d5b27d9c0"
   },
   "outputs": [
    {
     "data": {
      "text/plain": [
       "array([0, 7, 4, 0, 1, 6, 4, 2, 3, 2, 9, 0, 9, 3, 2, 3, 2, 4, 4, 8, 2, 6,\n",
       "       8, 0, 5, 4, 6, 5, 2, 2, 8, 1, 5, 7, 1, 7, 7, 3, 9, 8, 7, 3, 7, 5,\n",
       "       4, 4, 0, 5, 0, 4, 0, 0, 9, 6, 8, 7, 6, 5, 0, 5, 6, 5, 1, 2, 9, 4,\n",
       "       3, 2, 1, 6, 2, 8, 2, 5, 1, 6, 5, 7, 7, 1, 0, 5, 9, 1, 3, 2, 5, 3,\n",
       "       2, 0, 5, 6, 6, 8, 8, 9, 4, 9, 2, 2])"
      ]
     },
     "execution_count": 37,
     "metadata": {
      "tags": []
     },
     "output_type": "execute_result"
    }
   ],
   "source": [
    "y_pred"
   ]
  },
  {
   "cell_type": "code",
   "execution_count": 38,
   "metadata": {
    "colab": {
     "base_uri": "https://localhost:8080/"
    },
    "executionInfo": {
     "elapsed": 969,
     "status": "ok",
     "timestamp": 1619252136783,
     "user": {
      "displayName": "Ravi Shankar",
      "photoUrl": "https://lh3.googleusercontent.com/a-/AOh14GidxOjj3ciQniMvbosm0jepKjOPlFME4D2TaWrZug=s64",
      "userId": "07850487889650248093"
     },
     "user_tz": -330
    },
    "id": "LcTBEgzJ8BTL",
    "outputId": "2fc2f1e9-7414-4ba4-a56f-f5d25857c56f"
   },
   "outputs": [
    {
     "data": {
      "text/plain": [
       "100"
      ]
     },
     "execution_count": 38,
     "metadata": {
      "tags": []
     },
     "output_type": "execute_result"
    }
   ],
   "source": [
    "len(y_pred)"
   ]
  },
  {
   "cell_type": "code",
   "execution_count": 39,
   "metadata": {
    "colab": {
     "base_uri": "https://localhost:8080/",
     "height": 241
    },
    "executionInfo": {
     "elapsed": 1671,
     "status": "ok",
     "timestamp": 1619252184371,
     "user": {
      "displayName": "Ravi Shankar",
      "photoUrl": "https://lh3.googleusercontent.com/a-/AOh14GidxOjj3ciQniMvbosm0jepKjOPlFME4D2TaWrZug=s64",
      "userId": "07850487889650248093"
     },
     "user_tz": -330
    },
    "id": "HELMbxr98sRG",
    "outputId": "d2928533-1cc5-4efc-ce4f-6de5adc8a5c7"
   },
   "outputs": [
    {
     "data": {
      "image/png": "[encoded data removed]",
      "text/plain": [
       "<PIL.Image.Image image mode=RGB size=224x224 at 0x7F30F79CB1D0>"
      ]
     },
     "execution_count": 39,
     "metadata": {
      "tags": []
     },
     "output_type": "execute_result"
    }
   ],
   "source": [
    "img"
   ]
  },
  {
   "cell_type": "code",
   "execution_count": 41,
   "metadata": {
    "executionInfo": {
     "elapsed": 914,
     "status": "ok",
     "timestamp": 1619252261156,
     "user": {
      "displayName": "Ravi Shankar",
      "photoUrl": "https://lh3.googleusercontent.com/a-/AOh14GidxOjj3ciQniMvbosm0jepKjOPlFME4D2TaWrZug=s64",
      "userId": "07850487889650248093"
     },
     "user_tz": -330
    },
    "id": "Yq-7nVqS834H"
   },
   "outputs": [],
   "source": [
    "img_data = image.img_to_array(img)"
   ]
  },
  {
   "cell_type": "code",
   "execution_count": 43,
   "metadata": {
    "colab": {
     "base_uri": "https://localhost:8080/"
    },
    "executionInfo": {
     "elapsed": 987,
     "status": "ok",
     "timestamp": 1619252270221,
     "user": {
      "displayName": "Ravi Shankar",
      "photoUrl": "https://lh3.googleusercontent.com/a-/AOh14GidxOjj3ciQniMvbosm0jepKjOPlFME4D2TaWrZug=s64",
      "userId": "07850487889650248093"
     },
     "user_tz": -330
    },
    "id": "3eWVuoPv8_ss",
    "outputId": "db5a0c28-e542-4afb-fb7b-ec7861dee512"
   },
   "outputs": [
    {
     "data": {
      "text/plain": [
       "(224, 224, 3)"
      ]
     },
     "execution_count": 43,
     "metadata": {
      "tags": []
     },
     "output_type": "execute_result"
    }
   ],
   "source": [
    "img_data.shape"
   ]
  },
  {
   "cell_type": "code",
   "execution_count": 45,
   "metadata": {
    "executionInfo": {
     "elapsed": 1002,
     "status": "ok",
     "timestamp": 1619252298687,
     "user": {
      "displayName": "Ravi Shankar",
      "photoUrl": "https://lh3.googleusercontent.com/a-/AOh14GidxOjj3ciQniMvbosm0jepKjOPlFME4D2TaWrZug=s64",
      "userId": "07850487889650248093"
     },
     "user_tz": -330
    },
    "id": "JwN7z74A9LPl"
   },
   "outputs": [],
   "source": [
    "img_data = np.expand_dims(img_data,axis = 0)"
   ]
  },
  {
   "cell_type": "code",
   "execution_count": 47,
   "metadata": {
    "colab": {
     "base_uri": "https://localhost:8080/"
    },
    "executionInfo": {
     "elapsed": 949,
     "status": "ok",
     "timestamp": 1619252305508,
     "user": {
      "displayName": "Ravi Shankar",
      "photoUrl": "https://lh3.googleusercontent.com/a-/AOh14GidxOjj3ciQniMvbosm0jepKjOPlFME4D2TaWrZug=s64",
      "userId": "07850487889650248093"
     },
     "user_tz": -330
    },
    "id": "I34-aD_X9RS1",
    "outputId": "275a41ce-6a7a-48ac-dca5-9846cb16aa6e"
   },
   "outputs": [
    {
     "data": {
      "text/plain": [
       "(1, 224, 224, 3)"
      ]
     },
     "execution_count": 47,
     "metadata": {
      "tags": []
     },
     "output_type": "execute_result"
    }
   ],
   "source": [
    "img_data.shape"
   ]
  },
  {
   "cell_type": "code",
   "execution_count": 48,
   "metadata": {
    "colab": {
     "base_uri": "https://localhost:8080/"
    },
    "executionInfo": {
     "elapsed": 2902,
     "status": "ok",
     "timestamp": 1619252409209,
     "user": {
      "displayName": "Ravi Shankar",
      "photoUrl": "https://lh3.googleusercontent.com/a-/AOh14GidxOjj3ciQniMvbosm0jepKjOPlFME4D2TaWrZug=s64",
      "userId": "07850487889650248093"
     },
     "user_tz": -330
    },
    "id": "hLwzy5uy9Ucn",
    "outputId": "aadc40af-427c-486a-d9a5-dd6d22407b8f"
   },
   "outputs": [
    {
     "data": {
      "text/plain": [
       "array([[0., 0., 1., 0., 0., 0., 0., 0., 0., 0.]], dtype=float32)"
      ]
     },
     "execution_count": 48,
     "metadata": {
      "tags": []
     },
     "output_type": "execute_result"
    }
   ],
   "source": [
    "base.predict(img_data)"
   ]
  },
  {
   "cell_type": "code",
   "execution_count": 49,
   "metadata": {
    "colab": {
     "base_uri": "https://localhost:8080/"
    },
    "executionInfo": {
     "elapsed": 1750,
     "status": "ok",
     "timestamp": 1619252439882,
     "user": {
      "displayName": "Ravi Shankar",
      "photoUrl": "https://lh3.googleusercontent.com/a-/AOh14GidxOjj3ciQniMvbosm0jepKjOPlFME4D2TaWrZug=s64",
      "userId": "07850487889650248093"
     },
     "user_tz": -330
    },
    "id": "LRlmVT-g9p7q",
    "outputId": "20a3c834-897f-4563-d034-022be1baf35f"
   },
   "outputs": [
    {
     "data": {
      "text/plain": [
       "array([2])"
      ]
     },
     "execution_count": 49,
     "metadata": {
      "tags": []
     },
     "output_type": "execute_result"
    }
   ],
   "source": [
    "np.argmax(base.predict(img_data),axis = 1)"
   ]
  },
  {
   "cell_type": "code",
   "execution_count": null,
   "metadata": {
    "id": "zjyBd2NA92OS"
   },
   "outputs": [],
   "source": []
  }
 ],
 "metadata": {
  "accelerator": "GPU",
  "colab": {
   "collapsed_sections": [],
   "name": "Car_Brand_basemodel.ipynb",
   "provenance": []
  },
  "kernelspec": {
   "display_name": "Python 3",
   "language": "python",
   "name": "python3"
  },
  "language_info": {
   "codemirror_mode": {
    "name": "ipython",
    "version": 3
   },
   "file_extension": ".py",
   "mimetype": "text/x-python",
   "name": "python",
   "nbconvert_exporter": "python",
   "pygments_lexer": "ipython3",
   "version": "3.7.6"
  }
 },
 "nbformat": 4,
 "nbformat_minor": 1
}
